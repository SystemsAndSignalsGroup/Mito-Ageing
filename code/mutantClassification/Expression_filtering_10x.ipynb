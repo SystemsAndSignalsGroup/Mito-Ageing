{
 "cells": [
  {
   "cell_type": "markdown",
   "metadata": {},
   "source": [
    "# Notebook to filter out cells from the expression matrix which have abnormal levels of genes, or an abnormal mitochondrial content"
   ]
  },
  {
   "cell_type": "markdown",
   "metadata": {},
   "source": [
    "Suitable for any dataset where we have multiple GSMs and an expression matrix for each GSM"
   ]
  },
  {
   "cell_type": "code",
   "execution_count": null,
   "metadata": {},
   "outputs": [],
   "source": [
    "import numpy as np\n",
    "import pandas as pd\n",
    "import scanpy as sc\n",
    "import os\n",
    "import argparse\n",
    "import matplotlib.pyplot as plt"
   ]
  },
  {
   "cell_type": "code",
   "execution_count": null,
   "metadata": {},
   "outputs": [],
   "source": [
    "dataType='10x'\n",
    "mitoName='MT-' #Prefix on mitochondrial genes (MT- for human, Mt- for Rat)\n",
    "minGene=200\n",
    "minCells=3"
   ]
  },
  {
   "cell_type": "code",
   "execution_count": null,
   "metadata": {},
   "outputs": [],
   "source": [
    "GSM_list = pd.read_csv('gsm.txt',header=None)\n",
    "filenames = []\n",
    "for i in GSM_list:\n",
    "    filenames.append(f'./Data/Expression/{i}/raw')\n",
    "\n",
    "# Reads in expression matrices for every GSM in your dataset    \n",
    "adatas = [sc.read_10x_mtx(filename) for filename in filenames]"
   ]
  },
  {
   "cell_type": "code",
   "execution_count": null,
   "metadata": {},
   "outputs": [],
   "source": [
    "# To account for the possibility of barcodes appearing in multiple GSMs we have to append the GSM to the front of the barcode for all GSMs\n",
    "for i , GSM in enumerate(GSM_list):\n",
    "    adatas[i].obs.index = f'{GSM}_' + adatas[i].obs.index\n",
    "    \n",
    "# Creates one giant expression matrix from the whole experiment to do quality control on\n",
    "adata = adatas[0].concatenate(adatas[1:],index_unique=None)\n",
    "adata.var_names_make_unique()"
   ]
  },
  {
   "cell_type": "code",
   "execution_count": null,
   "metadata": {},
   "outputs": [],
   "source": [
    "#filtering criterion\n",
    "sc.pp.filter_cells(adata, min_genes=min_genes)\n",
    "sc.pp.filter_genes(adata, min_cells=min_cells)\n",
    "\n",
    "adata.var['mt'] = adata.var_names.str.startswith(mitoName)  # annotate the group of mitochondrial genes as 'mt'\n",
    "sc.pp.calculate_qc_metrics(adata, qc_vars=['mt'], percent_top=None, inplace=True)"
   ]
  },
  {
   "cell_type": "code",
   "execution_count": null,
   "metadata": {},
   "outputs": [],
   "source": [
    "sc.pl.violin(adata, ['n_genes_by_counts', 'total_counts', 'pct_counts_mt'],\n",
    "             jitter=0.4, multi_panel=True)"
   ]
  },
  {
   "cell_type": "code",
   "execution_count": null,
   "metadata": {},
   "outputs": [],
   "source": [
    "# Set the thresholds based off the violin plots above (some iteration may be required)\n",
    "adata = adata[adata.obs.total_counts < 10000, :] # Generally set in order to filter out possible doublets\n",
    "adata = adata[adata.obs.pct_counts_mt < 10, :]\n",
    "adata = adata[adata.obs.pct_counts_mt > 0, :] "
   ]
  },
  {
   "cell_type": "code",
   "execution_count": null,
   "metadata": {},
   "outputs": [],
   "source": [
    "sc.pl.scatter(adata, x='total_counts', y='pct_counts_mt')\n",
    "sc.pl.scatter(adata, x='total_counts', y='n_genes_by_counts')\n",
    "sc.pl.scatter(adata, x='n_genes_by_counts', y='pct_counts_mt')"
   ]
  },
  {
   "cell_type": "markdown",
   "metadata": {},
   "source": [
    "Save list of all barcodes which passed quality control"
   ]
  },
  {
   "cell_type": "code",
   "execution_count": null,
   "metadata": {},
   "outputs": [],
   "source": [
    "filtered_barcodes = adata.obs_names.astype(\"str\")\n",
    "np.savetxt('allFilteredBarcodes.txt', filtered_barcodes, fmt=\"%s\")"
   ]
  },
  {
   "cell_type": "code",
   "execution_count": null,
   "metadata": {},
   "outputs": [],
   "source": [
    "# Creates separate barcode list files for each GSM for use by the variant caller\n",
    "\n",
    "barcodeSplit = pd.DataFrame(filtered_barcodes)[0].str.split('-',expand=True)[0].str.split('_',expand=True)\n",
    "\n",
    "for i in barcodeSplit[0].unique():\n",
    "    np.savetxt(f'{i}_filtered_barcodes.txt', barcodeSplit[barcodeSplit[0]==i][1], fmt=\"%s\")"
   ]
  },
  {
   "cell_type": "code",
   "execution_count": null,
   "metadata": {},
   "outputs": [],
   "source": []
  }
 ],
 "metadata": {
  "kernelspec": {
   "display_name": "Python [conda env:seq]",
   "language": "python",
   "name": "conda-env-seq-py"
  },
  "language_info": {
   "codemirror_mode": {
    "name": "ipython",
    "version": 3
   },
   "file_extension": ".py",
   "mimetype": "text/x-python",
   "name": "python",
   "nbconvert_exporter": "python",
   "pygments_lexer": "ipython3",
   "version": "3.6.8"
  }
 },
 "nbformat": 4,
 "nbformat_minor": 2
}
